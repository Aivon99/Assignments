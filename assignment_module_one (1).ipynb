{
 "cells": [
  {
   "cell_type": "markdown",
   "metadata": {
    "id": "MNBgGYg_lpVN"
   },
   "source": [
    "# **Product Recognition of Books**\n",
    "\n",
    "## Image Processing and Computer Vision - Assignment Module \\#1\n",
    "\n",
    "\n",
    "Contacts:\n",
    "\n",
    "- Prof. Giuseppe Lisanti -> giuseppe.lisanti@unibo.it\n",
    "- Prof. Samuele Salti -> samuele.salti@unibo.it\n",
    "- Alex Costanzino -> alex.costanzino@unibo.it\n",
    "- Francesco Ballerini -> francesco.ballerini4@unibo.it"
   ]
  },
  {
   "cell_type": "markdown",
   "metadata": {
    "id": "R552o2Anyj8T"
   },
   "source": [
    "Computer vision-based object detection techniques can be applied in library or bookstore settings to build a system that identifies books on shelves.\n",
    "\n",
    "Such a system could assist in:\n",
    "* Helping visually impaired users locate books by title/author;\n",
    "* Automating inventory management (e.g., detecting misplaced or out-of-stock books);\n",
    "* Enabling faster book retrieval by recognizing spine text or cover designs."
   ]
  },
  {
   "cell_type": "markdown",
   "metadata": {
    "id": "DW42NlZsyTv0"
   },
   "source": [
    "## Task\n",
    "Develop a computer vision system that, given a reference image for each book, is able to identify such book from one picture of a shelf.\n",
    "\n",
    "<figure>\n",
    "<a href=\"https://ibb.co/pvLVjbM5\"><img src=\"https://i.ibb.co/svVx9bNz/example.png\" alt=\"example\" border=\"0\"></a>\n",
    "</figure>\n",
    "\n",
    "For each type of product displayed on the shelf, the system should compute a bounding box aligned with the book spine or cover and report:\n",
    "1. Number of instances;\n",
    "1. Dimension of each instance (area in pixel of the bounding box that encloses each one of them);\n",
    "1. Position in the image reference system of each instance (four corners of the bounding box that enclose them);\n",
    "1. Overlay of the bounding boxes on the scene images.\n",
    "\n",
    "<font color=\"red\"><b>Each step of this assignment must be solved using traditional computer vision techniques.</b></font>\n",
    "\n",
    "#### Example of expected output\n",
    "```\n",
    "Book 0 - 2 instance(s) found:\n",
    "  Instance 1 {top_left: (100,200), top_right: (110, 220), bottom_left: (10, 202), bottom_right: (10, 208), area: 230px}\n",
    "  Instance 2 {top_left: (90,310), top_right: (95, 340), bottom_left: (24, 205), bottom_right: (23, 234), area: 205px}\n",
    "Book 1 – 1 instance(s) found:\n",
    ".\n",
    ".\n",
    ".\n",
    "```"
   ]
  },
  {
   "cell_type": "markdown",
   "metadata": {
    "id": "9fIbZJKq16ba"
   },
   "source": [
    "## Data\n",
    "Two folders of images are provided:\n",
    "* **Models**: contains one reference image for each product that the system should be able to identify;\n",
    "* **Scenes**: contains different shelve pictures to test the developed algorithm in different scenarios."
   ]
  },
  {
   "cell_type": "code",
   "execution_count": 1,
   "metadata": {
    "id": "NjP3GCdujYlw"
   },
   "outputs": [
    {
     "ename": "ModuleNotFoundError",
     "evalue": "No module named 'google.colab'",
     "output_type": "error",
     "traceback": [
      "\u001b[1;31m---------------------------------------------------------------------------\u001b[0m",
      "\u001b[1;31mModuleNotFoundError\u001b[0m                       Traceback (most recent call last)",
      "Cell \u001b[1;32mIn[1], line 1\u001b[0m\n\u001b[1;32m----> 1\u001b[0m \u001b[38;5;28;01mfrom\u001b[39;00m \u001b[38;5;21;01mgoogle\u001b[39;00m\u001b[38;5;21;01m.\u001b[39;00m\u001b[38;5;21;01mcolab\u001b[39;00m \u001b[38;5;28;01mimport\u001b[39;00m drive\n\u001b[0;32m      2\u001b[0m drive\u001b[38;5;241m.\u001b[39mmount(\u001b[38;5;124m'\u001b[39m\u001b[38;5;124m/content/drive\u001b[39m\u001b[38;5;124m'\u001b[39m)\n\u001b[0;32m      4\u001b[0m get_ipython()\u001b[38;5;241m.\u001b[39msystem(\u001b[38;5;124m'\u001b[39m\u001b[38;5;124mcp -r /content/drive/MyDrive/AssignmentsIPCV/dataset.zip ./\u001b[39m\u001b[38;5;124m'\u001b[39m)\n",
      "\u001b[1;31mModuleNotFoundError\u001b[0m: No module named 'google.colab'"
     ]
    }
   ],
   "source": [
    "from google.colab import drive\n",
    "drive.mount('/content/drive')\n",
    "\n",
    "!cp -r /content/drive/MyDrive/AssignmentsIPCV/dataset.zip ./\n",
    "!unzip dataset.zip"
   ]
  },
  {
   "cell_type": "markdown",
   "metadata": {
    "id": "5KRBeGbKsEDe"
   },
   "source": [
    "## Evaluation criteria\n",
    "1. **Clarity and conciseness**. Present your work in a readable way: format your code and comment every important step;\n",
    "\n",
    "2. **Procedural correctness**. There are several ways to solve the assignment. Design your own sound approach and justify every decision you make;\n",
    "\n",
    "3. **Correctness of results**. Try to solve as many instances as possible. You should be able to solve all the instances of the assignment, however, a thoroughly justified and sound procedure with a lower number of solved instances will be valued **more** than a poorly designed and justified approach that solves more or all instances."
   ]
  }
 ],
 "metadata": {
  "colab": {
   "provenance": []
  },
  "kernelspec": {
   "display_name": "Python 3",
   "name": "python3"
  },
  "language_info": {
   "codemirror_mode": {
    "name": "ipython",
    "version": 3
   },
   "file_extension": ".py",
   "mimetype": "text/x-python",
   "name": "python",
   "nbconvert_exporter": "python",
   "pygments_lexer": "ipython3",
   "version": "3.12.10"
  }
 },
 "nbformat": 4,
 "nbformat_minor": 0
}
